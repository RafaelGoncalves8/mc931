{
 "cells": [
  {
   "cell_type": "markdown",
   "metadata": {},
   "source": [
    "# Pós-graduação"
   ]
  },
  {
   "cell_type": "code",
   "execution_count": 10,
   "metadata": {
    "collapsed": true
   },
   "outputs": [],
   "source": [
    "%matplotlib inline\n",
    "import numpy as np\n",
    "import pandas as pd\n",
    "import matplotlib.pyplot as plt"
   ]
  },
  {
   "cell_type": "code",
   "execution_count": 11,
   "metadata": {
    "collapsed": true
   },
   "outputs": [],
   "source": [
    "df = pd.read_csv('cidades_correto.csv')"
   ]
  },
  {
   "cell_type": "markdown",
   "metadata": {},
   "source": [
    "## Mestrado"
   ]
  },
  {
   "cell_type": "code",
   "execution_count": 41,
   "metadata": {},
   "outputs": [
    {
     "data": {
      "text/html": [
       "<div>\n",
       "<style>\n",
       "    .dataframe thead tr:only-child th {\n",
       "        text-align: right;\n",
       "    }\n",
       "\n",
       "    .dataframe thead th {\n",
       "        text-align: left;\n",
       "    }\n",
       "\n",
       "    .dataframe tbody tr th {\n",
       "        vertical-align: top;\n",
       "    }\n",
       "</style>\n",
       "<table border=\"1\" class=\"dataframe\">\n",
       "  <thead>\n",
       "    <tr style=\"text-align: right;\">\n",
       "      <th></th>\n",
       "      <th>ANO</th>\n",
       "      <th>NIVEL</th>\n",
       "      <th>COD_CURSO</th>\n",
       "      <th>NOME_CURSO</th>\n",
       "      <th>CIDADE</th>\n",
       "      <th>PAIS</th>\n",
       "      <th>NOME_PAIS</th>\n",
       "      <th>TOTAL</th>\n",
       "      <th>Unnamed: 8</th>\n",
       "    </tr>\n",
       "  </thead>\n",
       "  <tbody>\n",
       "    <tr>\n",
       "      <th>0</th>\n",
       "      <td>1997</td>\n",
       "      <td>M</td>\n",
       "      <td>1</td>\n",
       "      <td>Matemática</td>\n",
       "      <td>Araguari</td>\n",
       "      <td>BR</td>\n",
       "      <td>Brasil</td>\n",
       "      <td>1</td>\n",
       "      <td>NaN</td>\n",
       "    </tr>\n",
       "    <tr>\n",
       "      <th>1</th>\n",
       "      <td>1997</td>\n",
       "      <td>M</td>\n",
       "      <td>1</td>\n",
       "      <td>Matemática</td>\n",
       "      <td>Barretos</td>\n",
       "      <td>BR</td>\n",
       "      <td>Brasil</td>\n",
       "      <td>1</td>\n",
       "      <td>NaN</td>\n",
       "    </tr>\n",
       "    <tr>\n",
       "      <th>2</th>\n",
       "      <td>1997</td>\n",
       "      <td>M</td>\n",
       "      <td>1</td>\n",
       "      <td>Matemática</td>\n",
       "      <td>Belo Horizonte</td>\n",
       "      <td>BR</td>\n",
       "      <td>Brasil</td>\n",
       "      <td>1</td>\n",
       "      <td>NaN</td>\n",
       "    </tr>\n",
       "    <tr>\n",
       "      <th>3</th>\n",
       "      <td>1997</td>\n",
       "      <td>M</td>\n",
       "      <td>1</td>\n",
       "      <td>Matemática</td>\n",
       "      <td>Campinas</td>\n",
       "      <td>BR</td>\n",
       "      <td>Brasil</td>\n",
       "      <td>2</td>\n",
       "      <td>NaN</td>\n",
       "    </tr>\n",
       "    <tr>\n",
       "      <th>4</th>\n",
       "      <td>1997</td>\n",
       "      <td>M</td>\n",
       "      <td>1</td>\n",
       "      <td>Matemática</td>\n",
       "      <td>Fernandópolis</td>\n",
       "      <td>BR</td>\n",
       "      <td>Brasil</td>\n",
       "      <td>1</td>\n",
       "      <td>NaN</td>\n",
       "    </tr>\n",
       "  </tbody>\n",
       "</table>\n",
       "</div>"
      ],
      "text/plain": [
       "    ANO NIVEL  COD_CURSO  NOME_CURSO          CIDADE PAIS NOME_PAIS TOTAL  \\\n",
       "0  1997     M          1  Matemática        Araguari   BR    Brasil     1   \n",
       "1  1997     M          1  Matemática        Barretos   BR    Brasil     1   \n",
       "2  1997     M          1  Matemática  Belo Horizonte   BR    Brasil     1   \n",
       "3  1997     M          1  Matemática        Campinas   BR    Brasil     2   \n",
       "4  1997     M          1  Matemática   Fernandópolis   BR    Brasil     1   \n",
       "\n",
       "   Unnamed: 8  \n",
       "0         NaN  \n",
       "1         NaN  \n",
       "2         NaN  \n",
       "3         NaN  \n",
       "4         NaN  "
      ]
     },
     "execution_count": 41,
     "metadata": {},
     "output_type": "execute_result"
    }
   ],
   "source": [
    "alunos_mes = pd.read_csv('A_Mes.csv', delimiter=';')\n",
    "alunos_mes.head()"
   ]
  },
  {
   "cell_type": "code",
   "execution_count": 42,
   "metadata": {},
   "outputs": [
    {
     "data": {
      "text/html": [
       "<div>\n",
       "<style>\n",
       "    .dataframe thead tr:only-child th {\n",
       "        text-align: right;\n",
       "    }\n",
       "\n",
       "    .dataframe thead th {\n",
       "        text-align: left;\n",
       "    }\n",
       "\n",
       "    .dataframe tbody tr th {\n",
       "        vertical-align: top;\n",
       "    }\n",
       "</style>\n",
       "<table border=\"1\" class=\"dataframe\">\n",
       "  <thead>\n",
       "    <tr style=\"text-align: right;\">\n",
       "      <th></th>\n",
       "      <th>ANO</th>\n",
       "      <th>NIVEL</th>\n",
       "      <th>COD_CURSO</th>\n",
       "      <th>NOME_CURSO</th>\n",
       "      <th>CIDADE</th>\n",
       "      <th>PAIS</th>\n",
       "      <th>NOME_PAIS</th>\n",
       "      <th>TOTAL</th>\n",
       "      <th>Unnamed: 8</th>\n",
       "    </tr>\n",
       "  </thead>\n",
       "  <tbody>\n",
       "    <tr>\n",
       "      <th>59001</th>\n",
       "      <td>2017</td>\n",
       "      <td>M</td>\n",
       "      <td>94</td>\n",
       "      <td>Ciências Farmacêuticas</td>\n",
       "      <td>Campinas</td>\n",
       "      <td>BR</td>\n",
       "      <td>Brasil</td>\n",
       "      <td>1</td>\n",
       "      <td>NaN</td>\n",
       "    </tr>\n",
       "    <tr>\n",
       "      <th>59002</th>\n",
       "      <td>2017</td>\n",
       "      <td>M</td>\n",
       "      <td>94</td>\n",
       "      <td>Ciências Farmacêuticas</td>\n",
       "      <td>Jundiaí</td>\n",
       "      <td>BR</td>\n",
       "      <td>Brasil</td>\n",
       "      <td>1</td>\n",
       "      <td>NaN</td>\n",
       "    </tr>\n",
       "    <tr>\n",
       "      <th>59003</th>\n",
       "      <td>2017</td>\n",
       "      <td>M</td>\n",
       "      <td>94</td>\n",
       "      <td>Ciências Farmacêuticas</td>\n",
       "      <td>Maracaju</td>\n",
       "      <td>BR</td>\n",
       "      <td>Brasil</td>\n",
       "      <td>1</td>\n",
       "      <td>NaN</td>\n",
       "    </tr>\n",
       "    <tr>\n",
       "      <th>59004</th>\n",
       "      <td>2017</td>\n",
       "      <td>M</td>\n",
       "      <td>94</td>\n",
       "      <td>Ciências Farmacêuticas</td>\n",
       "      <td>Santo André</td>\n",
       "      <td>BR</td>\n",
       "      <td>Brasil</td>\n",
       "      <td>1</td>\n",
       "      <td>NaN</td>\n",
       "    </tr>\n",
       "    <tr>\n",
       "      <th>59005</th>\n",
       "      <td>2017</td>\n",
       "      <td>M</td>\n",
       "      <td>94</td>\n",
       "      <td>Ciências Farmacêuticas</td>\n",
       "      <td>São Paulo</td>\n",
       "      <td>BR</td>\n",
       "      <td>Brasil</td>\n",
       "      <td>1</td>\n",
       "      <td>NaN</td>\n",
       "    </tr>\n",
       "  </tbody>\n",
       "</table>\n",
       "</div>"
      ],
      "text/plain": [
       "        ANO NIVEL  COD_CURSO              NOME_CURSO       CIDADE PAIS  \\\n",
       "59001  2017     M         94  Ciências Farmacêuticas     Campinas   BR   \n",
       "59002  2017     M         94  Ciências Farmacêuticas      Jundiaí   BR   \n",
       "59003  2017     M         94  Ciências Farmacêuticas     Maracaju   BR   \n",
       "59004  2017     M         94  Ciências Farmacêuticas  Santo André   BR   \n",
       "59005  2017     M         94  Ciências Farmacêuticas    São Paulo   BR   \n",
       "\n",
       "      NOME_PAIS TOTAL  Unnamed: 8  \n",
       "59001    Brasil     1         NaN  \n",
       "59002    Brasil     1         NaN  \n",
       "59003    Brasil     1         NaN  \n",
       "59004    Brasil     1         NaN  \n",
       "59005    Brasil     1         NaN  "
      ]
     },
     "execution_count": 42,
     "metadata": {},
     "output_type": "execute_result"
    }
   ],
   "source": [
    "alunos_mes = alunos_mes[alunos_mes.PAIS.isin([\"BR\"])]\n",
    "\n",
    "alunos_mes.tail()"
   ]
  },
  {
   "cell_type": "code",
   "execution_count": 43,
   "metadata": {},
   "outputs": [
    {
     "data": {
      "text/html": [
       "<div>\n",
       "<style>\n",
       "    .dataframe thead tr:only-child th {\n",
       "        text-align: right;\n",
       "    }\n",
       "\n",
       "    .dataframe thead th {\n",
       "        text-align: left;\n",
       "    }\n",
       "\n",
       "    .dataframe tbody tr th {\n",
       "        vertical-align: top;\n",
       "    }\n",
       "</style>\n",
       "<table border=\"1\" class=\"dataframe\">\n",
       "  <thead>\n",
       "    <tr style=\"text-align: right;\">\n",
       "      <th></th>\n",
       "      <th>UF</th>\n",
       "      <th>ano</th>\n",
       "      <th>cidade</th>\n",
       "      <th>curso</th>\n",
       "      <th>dist</th>\n",
       "      <th>lat</th>\n",
       "      <th>lon</th>\n",
       "      <th>nome_curso</th>\n",
       "      <th>numero</th>\n",
       "    </tr>\n",
       "  </thead>\n",
       "  <tbody>\n",
       "    <tr>\n",
       "      <th>0</th>\n",
       "      <td>NA</td>\n",
       "      <td>1997</td>\n",
       "      <td>Araguari</td>\n",
       "      <td>1</td>\n",
       "      <td>NaN</td>\n",
       "      <td>NaN</td>\n",
       "      <td>NaN</td>\n",
       "      <td>Matemática</td>\n",
       "      <td>1</td>\n",
       "    </tr>\n",
       "    <tr>\n",
       "      <th>1</th>\n",
       "      <td>NA</td>\n",
       "      <td>1997</td>\n",
       "      <td>Barretos</td>\n",
       "      <td>1</td>\n",
       "      <td>NaN</td>\n",
       "      <td>NaN</td>\n",
       "      <td>NaN</td>\n",
       "      <td>Matemática</td>\n",
       "      <td>1</td>\n",
       "    </tr>\n",
       "    <tr>\n",
       "      <th>2</th>\n",
       "      <td>NA</td>\n",
       "      <td>1997</td>\n",
       "      <td>Belo Horizonte</td>\n",
       "      <td>1</td>\n",
       "      <td>NaN</td>\n",
       "      <td>NaN</td>\n",
       "      <td>NaN</td>\n",
       "      <td>Matemática</td>\n",
       "      <td>1</td>\n",
       "    </tr>\n",
       "    <tr>\n",
       "      <th>3</th>\n",
       "      <td>NA</td>\n",
       "      <td>1997</td>\n",
       "      <td>Campinas</td>\n",
       "      <td>1</td>\n",
       "      <td>NaN</td>\n",
       "      <td>NaN</td>\n",
       "      <td>NaN</td>\n",
       "      <td>Matemática</td>\n",
       "      <td>2</td>\n",
       "    </tr>\n",
       "    <tr>\n",
       "      <th>4</th>\n",
       "      <td>NA</td>\n",
       "      <td>1997</td>\n",
       "      <td>Fernandópolis</td>\n",
       "      <td>1</td>\n",
       "      <td>NaN</td>\n",
       "      <td>NaN</td>\n",
       "      <td>NaN</td>\n",
       "      <td>Matemática</td>\n",
       "      <td>1</td>\n",
       "    </tr>\n",
       "  </tbody>\n",
       "</table>\n",
       "</div>"
      ],
      "text/plain": [
       "   UF   ano          cidade  curso  dist  lat  lon  nome_curso numero\n",
       "0  NA  1997        Araguari      1   NaN  NaN  NaN  Matemática      1\n",
       "1  NA  1997        Barretos      1   NaN  NaN  NaN  Matemática      1\n",
       "2  NA  1997  Belo Horizonte      1   NaN  NaN  NaN  Matemática      1\n",
       "3  NA  1997        Campinas      1   NaN  NaN  NaN  Matemática      2\n",
       "4  NA  1997   Fernandópolis      1   NaN  NaN  NaN  Matemática      1"
      ]
     },
     "execution_count": 43,
     "metadata": {},
     "output_type": "execute_result"
    }
   ],
   "source": [
    "data_mes = pd.DataFrame({'cidade': alunos_mes.CIDADE,\n",
    "                 'numero': alunos_mes.TOTAL,\n",
    "                 'curso': alunos_mes.COD_CURSO,\n",
    "                 'nome_curso': alunos_mes.NOME_CURSO,\n",
    "                 'ano': alunos_mes.ANO,\n",
    "                 'UF': 'NA',\n",
    "                 'lat': np.nan,\n",
    "                 'lon': np.nan,\n",
    "                 'dist': np.nan})\n",
    "data_mes.head()"
   ]
  },
  {
   "cell_type": "code",
   "execution_count": 44,
   "metadata": {},
   "outputs": [],
   "source": [
    "for i, e in enumerate(df.cidade):\n",
    "    c = data_mes[data_mes[\"cidade\"] == e]\n",
    "    for j, f in zip(c.index, c.cidade):\n",
    "        data_mes.at[j, \"UF\"] = df.at[i, \"UF\"]\n",
    "        data_mes.at[j, \"dist\"] = df.at[i, \"dist\"]\n",
    "        data_mes.at[j, \"lat\"] = df.at[i, \"lat\"]\n",
    "        data_mes.at[j, \"lon\"] = df.at[i, \"lon\"]"
   ]
  },
  {
   "cell_type": "code",
   "execution_count": 45,
   "metadata": {},
   "outputs": [
    {
     "data": {
      "text/html": [
       "<div>\n",
       "<style>\n",
       "    .dataframe thead tr:only-child th {\n",
       "        text-align: right;\n",
       "    }\n",
       "\n",
       "    .dataframe thead th {\n",
       "        text-align: left;\n",
       "    }\n",
       "\n",
       "    .dataframe tbody tr th {\n",
       "        vertical-align: top;\n",
       "    }\n",
       "</style>\n",
       "<table border=\"1\" class=\"dataframe\">\n",
       "  <thead>\n",
       "    <tr style=\"text-align: right;\">\n",
       "      <th></th>\n",
       "      <th>UF</th>\n",
       "      <th>ano</th>\n",
       "      <th>cidade</th>\n",
       "      <th>curso</th>\n",
       "      <th>dist</th>\n",
       "      <th>lat</th>\n",
       "      <th>lon</th>\n",
       "      <th>nome_curso</th>\n",
       "      <th>numero</th>\n",
       "    </tr>\n",
       "  </thead>\n",
       "  <tbody>\n",
       "    <tr>\n",
       "      <th>0</th>\n",
       "      <td>MG</td>\n",
       "      <td>1997</td>\n",
       "      <td>Araguari</td>\n",
       "      <td>1</td>\n",
       "      <td>487.967563</td>\n",
       "      <td>-0.325474</td>\n",
       "      <td>-0.841102</td>\n",
       "      <td>Matemática</td>\n",
       "      <td>1</td>\n",
       "    </tr>\n",
       "    <tr>\n",
       "      <th>1</th>\n",
       "      <td>SP</td>\n",
       "      <td>1997</td>\n",
       "      <td>Barretos</td>\n",
       "      <td>1</td>\n",
       "      <td>304.054526</td>\n",
       "      <td>-0.358813</td>\n",
       "      <td>-0.847661</td>\n",
       "      <td>Matemática</td>\n",
       "      <td>1</td>\n",
       "    </tr>\n",
       "    <tr>\n",
       "      <th>2</th>\n",
       "      <td>MG</td>\n",
       "      <td>1997</td>\n",
       "      <td>Belo Horizonte</td>\n",
       "      <td>1</td>\n",
       "      <td>462.854596</td>\n",
       "      <td>-0.347975</td>\n",
       "      <td>-0.766661</td>\n",
       "      <td>Matemática</td>\n",
       "      <td>1</td>\n",
       "    </tr>\n",
       "    <tr>\n",
       "      <th>3</th>\n",
       "      <td>SP</td>\n",
       "      <td>1997</td>\n",
       "      <td>Campinas</td>\n",
       "      <td>1</td>\n",
       "      <td>0.000000</td>\n",
       "      <td>-0.399809</td>\n",
       "      <td>-0.821355</td>\n",
       "      <td>Matemática</td>\n",
       "      <td>2</td>\n",
       "    </tr>\n",
       "    <tr>\n",
       "      <th>4</th>\n",
       "      <td>SP</td>\n",
       "      <td>1997</td>\n",
       "      <td>Fernandópolis</td>\n",
       "      <td>1</td>\n",
       "      <td>440.278335</td>\n",
       "      <td>-0.353994</td>\n",
       "      <td>-0.877006</td>\n",
       "      <td>Matemática</td>\n",
       "      <td>1</td>\n",
       "    </tr>\n",
       "  </tbody>\n",
       "</table>\n",
       "</div>"
      ],
      "text/plain": [
       "   UF   ano          cidade  curso        dist       lat       lon  \\\n",
       "0  MG  1997        Araguari      1  487.967563 -0.325474 -0.841102   \n",
       "1  SP  1997        Barretos      1  304.054526 -0.358813 -0.847661   \n",
       "2  MG  1997  Belo Horizonte      1  462.854596 -0.347975 -0.766661   \n",
       "3  SP  1997        Campinas      1    0.000000 -0.399809 -0.821355   \n",
       "4  SP  1997   Fernandópolis      1  440.278335 -0.353994 -0.877006   \n",
       "\n",
       "   nome_curso numero  \n",
       "0  Matemática      1  \n",
       "1  Matemática      1  \n",
       "2  Matemática      1  \n",
       "3  Matemática      2  \n",
       "4  Matemática      1  "
      ]
     },
     "execution_count": 45,
     "metadata": {},
     "output_type": "execute_result"
    }
   ],
   "source": [
    "data_mes.head()"
   ]
  },
  {
   "cell_type": "code",
   "execution_count": 46,
   "metadata": {
    "collapsed": true
   },
   "outputs": [],
   "source": [
    "data_mes['dist'].replace('', np.nan, inplace=True)\n",
    "data_mes.dropna(inplace=True)"
   ]
  },
  {
   "cell_type": "code",
   "execution_count": 47,
   "metadata": {
    "collapsed": true
   },
   "outputs": [],
   "source": [
    "data_mes.to_csv('mes.csv')"
   ]
  },
  {
   "cell_type": "markdown",
   "metadata": {},
   "source": [
    "## Histograma distância"
   ]
  },
  {
   "cell_type": "code",
   "execution_count": 48,
   "metadata": {
    "collapsed": true
   },
   "outputs": [],
   "source": [
    "col = 12\n",
    "threshold = 130"
   ]
  },
  {
   "cell_type": "code",
   "execution_count": 49,
   "metadata": {
    "collapsed": true
   },
   "outputs": [],
   "source": [
    "data_mes_plt = sum([[float(data_mes.at[i, \"dist\"])]*int(data_mes.at[i, \"numero\"]) for i in data_mes.index], [])"
   ]
  },
  {
   "cell_type": "code",
   "execution_count": 50,
   "metadata": {},
   "outputs": [
    {
     "data": {
      "image/png": "[encoded data removed]",
      "text/plain": [
       "<matplotlib.figure.Figure at 0x7f6e67999668>"
      ]
     },
     "metadata": {},
     "output_type": "display_data"
    }
   ],
   "source": [
    "plt.hist(np.asarray(data_mes_plt), 2*col, color='red')\n",
    "plt.show()"
   ]
  },
  {
   "cell_type": "code",
   "execution_count": 51,
   "metadata": {},
   "outputs": [
    {
     "data": {
      "image/png": "[encoded data removed]",
      "text/plain": [
       "<matplotlib.figure.Figure at 0x7f6e67e046d8>"
      ]
     },
     "metadata": {},
     "output_type": "display_data"
    }
   ],
   "source": [
    "plt.hist(np.asarray([e for e in data_mes_plt if e > threshold]), 2*col, color='red')\n",
    "plt.show()"
   ]
  },
  {
   "cell_type": "code",
   "execution_count": 52,
   "metadata": {},
   "outputs": [
    {
     "data": {
      "image/png": "[encoded data removed]",
      "text/plain": [
       "<matplotlib.figure.Figure at 0x7f6e6744ef28>"
      ]
     },
     "metadata": {},
     "output_type": "display_data"
    }
   ],
   "source": [
    "plt.hist(np.asarray([e for e in data_mes_plt if e > threshold+50]), 2*col, color='red')\n",
    "plt.show()"
   ]
  },
  {
   "cell_type": "code",
   "execution_count": 53,
   "metadata": {},
   "outputs": [
    {
     "data": {
      "text/plain": [
       "<matplotlib.legend.Legend at 0x7f6e676600f0>"
      ]
     },
     "execution_count": 53,
     "metadata": {},
     "output_type": "execute_result"
    },
    {
     "data": {
      "image/png": "[encoded data removed]",
      "text/plain": [
       "<matplotlib.figure.Figure at 0x7f6e67660dd8>"
      ]
     },
     "metadata": {},
     "output_type": "display_data"
    }
   ],
   "source": [
    "bar_width = 0.8\n",
    "\n",
    "\n",
    "for i in [1999, 2005, 2011, 2017]:\n",
    "    data_mes_ano = data_mes[data_mes[\"ano\"] == i]\n",
    "    tot = sum(int(e) for e in data_mes_ano.numero)\n",
    "    sp = sum([int(e) for e in data_mes_ano[data_mes_ano[\"cidade\"] == \"São Paulo\"].numero])\n",
    "    camp = sum([int(e) for e in data_mes_ano[data_mes_ano[\"cidade\"] == \"Campinas\"].numero])\n",
    "    SP = sum([int(e) for e in data_mes_ano[data_mes_ano[\"UF\"] == \"SP\"].numero],-camp -sp)\n",
    "    SPn = sum([int(e) for e in data_mes_ano[data_mes_ano[\"UF\"] != \"SP\"].numero])\n",
    "    plt.bar(i, camp/tot, bar_width, color = 'r')\n",
    "    plt.bar(i+1, sp/tot, bar_width, color = 'b')\n",
    "    plt.bar(i+2, SPn/tot, bar_width, color='g')\n",
    "    plt.bar(i+3, SP/tot, bar_width, color='y')\n",
    "    plt.xticks([1999+1.6, 2005+1.6, 2011+1.6, 2017+1.6], ['1999', '2005', '2011', '2017'])\n",
    "\n",
    "#    plt.xticks(str(i)+' sp + camp')\n",
    "    \n",
    "\n",
    "        \n",
    "\n",
    "plt.legend(['Campinas', 'São Paulo', 'Outras UF', 'SP'],loc='best')"
   ]
  },
  {
   "cell_type": "markdown",
   "metadata": {},
   "source": [
    "## Doutorado"
   ]
  },
  {
   "cell_type": "code",
   "execution_count": 26,
   "metadata": {},
   "outputs": [
    {
     "data": {
      "text/html": [
       "<div>\n",
       "<style>\n",
       "    .dataframe thead tr:only-child th {\n",
       "        text-align: right;\n",
       "    }\n",
       "\n",
       "    .dataframe thead th {\n",
       "        text-align: left;\n",
       "    }\n",
       "\n",
       "    .dataframe tbody tr th {\n",
       "        vertical-align: top;\n",
       "    }\n",
       "</style>\n",
       "<table border=\"1\" class=\"dataframe\">\n",
       "  <thead>\n",
       "    <tr style=\"text-align: right;\">\n",
       "      <th></th>\n",
       "      <th>ANO</th>\n",
       "      <th>NIVEL</th>\n",
       "      <th>COD_CURSO</th>\n",
       "      <th>NOME_CURSO</th>\n",
       "      <th>CIDADE</th>\n",
       "      <th>PAIS</th>\n",
       "      <th>NOME_PAIS</th>\n",
       "      <th>TOTAL</th>\n",
       "      <th>Unnamed: 8</th>\n",
       "    </tr>\n",
       "  </thead>\n",
       "  <tbody>\n",
       "    <tr>\n",
       "      <th>0</th>\n",
       "      <td>1997</td>\n",
       "      <td>D</td>\n",
       "      <td>5</td>\n",
       "      <td>Tecnologia de Alimentos</td>\n",
       "      <td>Altair</td>\n",
       "      <td>BR</td>\n",
       "      <td>Brasil</td>\n",
       "      <td>1</td>\n",
       "      <td>NaN</td>\n",
       "    </tr>\n",
       "    <tr>\n",
       "      <th>1</th>\n",
       "      <td>1997</td>\n",
       "      <td>D</td>\n",
       "      <td>5</td>\n",
       "      <td>Tecnologia de Alimentos</td>\n",
       "      <td>Americana</td>\n",
       "      <td>BR</td>\n",
       "      <td>Brasil</td>\n",
       "      <td>1</td>\n",
       "      <td>NaN</td>\n",
       "    </tr>\n",
       "    <tr>\n",
       "      <th>2</th>\n",
       "      <td>1997</td>\n",
       "      <td>D</td>\n",
       "      <td>5</td>\n",
       "      <td>Tecnologia de Alimentos</td>\n",
       "      <td>Amélia Rodrigues</td>\n",
       "      <td>BR</td>\n",
       "      <td>Brasil</td>\n",
       "      <td>1</td>\n",
       "      <td>NaN</td>\n",
       "    </tr>\n",
       "    <tr>\n",
       "      <th>3</th>\n",
       "      <td>1997</td>\n",
       "      <td>D</td>\n",
       "      <td>5</td>\n",
       "      <td>Tecnologia de Alimentos</td>\n",
       "      <td>Araraquara</td>\n",
       "      <td>BR</td>\n",
       "      <td>Brasil</td>\n",
       "      <td>1</td>\n",
       "      <td>NaN</td>\n",
       "    </tr>\n",
       "    <tr>\n",
       "      <th>4</th>\n",
       "      <td>1997</td>\n",
       "      <td>D</td>\n",
       "      <td>5</td>\n",
       "      <td>Tecnologia de Alimentos</td>\n",
       "      <td>Araras</td>\n",
       "      <td>BR</td>\n",
       "      <td>Brasil</td>\n",
       "      <td>1</td>\n",
       "      <td>NaN</td>\n",
       "    </tr>\n",
       "  </tbody>\n",
       "</table>\n",
       "</div>"
      ],
      "text/plain": [
       "    ANO NIVEL  COD_CURSO               NOME_CURSO            CIDADE PAIS  \\\n",
       "0  1997     D          5  Tecnologia de Alimentos            Altair   BR   \n",
       "1  1997     D          5  Tecnologia de Alimentos         Americana   BR   \n",
       "2  1997     D          5  Tecnologia de Alimentos  Amélia Rodrigues   BR   \n",
       "3  1997     D          5  Tecnologia de Alimentos        Araraquara   BR   \n",
       "4  1997     D          5  Tecnologia de Alimentos            Araras   BR   \n",
       "\n",
       "  NOME_PAIS TOTAL  Unnamed: 8  \n",
       "0    Brasil     1         NaN  \n",
       "1    Brasil     1         NaN  \n",
       "2    Brasil     1         NaN  \n",
       "3    Brasil     1         NaN  \n",
       "4    Brasil     1         NaN  "
      ]
     },
     "execution_count": 26,
     "metadata": {},
     "output_type": "execute_result"
    }
   ],
   "source": [
    "alunos = pd.read_csv('A_Dou.csv', delimiter=';')\n",
    "alunos.head()"
   ]
  },
  {
   "cell_type": "code",
   "execution_count": 27,
   "metadata": {},
   "outputs": [
    {
     "data": {
      "text/html": [
       "<div>\n",
       "<style>\n",
       "    .dataframe thead tr:only-child th {\n",
       "        text-align: right;\n",
       "    }\n",
       "\n",
       "    .dataframe thead th {\n",
       "        text-align: left;\n",
       "    }\n",
       "\n",
       "    .dataframe tbody tr th {\n",
       "        vertical-align: top;\n",
       "    }\n",
       "</style>\n",
       "<table border=\"1\" class=\"dataframe\">\n",
       "  <thead>\n",
       "    <tr style=\"text-align: right;\">\n",
       "      <th></th>\n",
       "      <th>ANO</th>\n",
       "      <th>NIVEL</th>\n",
       "      <th>COD_CURSO</th>\n",
       "      <th>NOME_CURSO</th>\n",
       "      <th>CIDADE</th>\n",
       "      <th>PAIS</th>\n",
       "      <th>NOME_PAIS</th>\n",
       "      <th>TOTAL</th>\n",
       "      <th>Unnamed: 8</th>\n",
       "    </tr>\n",
       "  </thead>\n",
       "  <tbody>\n",
       "    <tr>\n",
       "      <th>69871</th>\n",
       "      <td>2017</td>\n",
       "      <td>D</td>\n",
       "      <td>107</td>\n",
       "      <td>Administração</td>\n",
       "      <td>Sumaré</td>\n",
       "      <td>BR</td>\n",
       "      <td>Brasil</td>\n",
       "      <td>1</td>\n",
       "      <td>NaN</td>\n",
       "    </tr>\n",
       "    <tr>\n",
       "      <th>69872</th>\n",
       "      <td>2017</td>\n",
       "      <td>D</td>\n",
       "      <td>108</td>\n",
       "      <td>Ciências Farmacêuticas</td>\n",
       "      <td>Campinas</td>\n",
       "      <td>BR</td>\n",
       "      <td>Brasil</td>\n",
       "      <td>1</td>\n",
       "      <td>NaN</td>\n",
       "    </tr>\n",
       "    <tr>\n",
       "      <th>69873</th>\n",
       "      <td>2017</td>\n",
       "      <td>D</td>\n",
       "      <td>108</td>\n",
       "      <td>Ciências Farmacêuticas</td>\n",
       "      <td>Porto Alegre</td>\n",
       "      <td>BR</td>\n",
       "      <td>Brasil</td>\n",
       "      <td>1</td>\n",
       "      <td>NaN</td>\n",
       "    </tr>\n",
       "    <tr>\n",
       "      <th>69874</th>\n",
       "      <td>2017</td>\n",
       "      <td>D</td>\n",
       "      <td>108</td>\n",
       "      <td>Ciências Farmacêuticas</td>\n",
       "      <td>Salto</td>\n",
       "      <td>BR</td>\n",
       "      <td>Brasil</td>\n",
       "      <td>1</td>\n",
       "      <td>NaN</td>\n",
       "    </tr>\n",
       "    <tr>\n",
       "      <th>69875</th>\n",
       "      <td>2017</td>\n",
       "      <td>D</td>\n",
       "      <td>108</td>\n",
       "      <td>Ciências Farmacêuticas</td>\n",
       "      <td>São Paulo</td>\n",
       "      <td>BR</td>\n",
       "      <td>Brasil</td>\n",
       "      <td>1</td>\n",
       "      <td>NaN</td>\n",
       "    </tr>\n",
       "  </tbody>\n",
       "</table>\n",
       "</div>"
      ],
      "text/plain": [
       "        ANO NIVEL  COD_CURSO              NOME_CURSO        CIDADE PAIS  \\\n",
       "69871  2017     D        107           Administração        Sumaré   BR   \n",
       "69872  2017     D        108  Ciências Farmacêuticas      Campinas   BR   \n",
       "69873  2017     D        108  Ciências Farmacêuticas  Porto Alegre   BR   \n",
       "69874  2017     D        108  Ciências Farmacêuticas         Salto   BR   \n",
       "69875  2017     D        108  Ciências Farmacêuticas     São Paulo   BR   \n",
       "\n",
       "      NOME_PAIS TOTAL  Unnamed: 8  \n",
       "69871    Brasil     1         NaN  \n",
       "69872    Brasil     1         NaN  \n",
       "69873    Brasil     1         NaN  \n",
       "69874    Brasil     1         NaN  \n",
       "69875    Brasil     1         NaN  "
      ]
     },
     "execution_count": 27,
     "metadata": {},
     "output_type": "execute_result"
    }
   ],
   "source": [
    "alunos = alunos[alunos.PAIS.isin([\"BR\"])]\n",
    "\n",
    "alunos.tail()"
   ]
  },
  {
   "cell_type": "code",
   "execution_count": 28,
   "metadata": {},
   "outputs": [
    {
     "data": {
      "text/html": [
       "<div>\n",
       "<style>\n",
       "    .dataframe thead tr:only-child th {\n",
       "        text-align: right;\n",
       "    }\n",
       "\n",
       "    .dataframe thead th {\n",
       "        text-align: left;\n",
       "    }\n",
       "\n",
       "    .dataframe tbody tr th {\n",
       "        vertical-align: top;\n",
       "    }\n",
       "</style>\n",
       "<table border=\"1\" class=\"dataframe\">\n",
       "  <thead>\n",
       "    <tr style=\"text-align: right;\">\n",
       "      <th></th>\n",
       "      <th>UF</th>\n",
       "      <th>ano</th>\n",
       "      <th>cidade</th>\n",
       "      <th>curso</th>\n",
       "      <th>dist</th>\n",
       "      <th>lat</th>\n",
       "      <th>lon</th>\n",
       "      <th>nome_curso</th>\n",
       "      <th>numero</th>\n",
       "    </tr>\n",
       "  </thead>\n",
       "  <tbody>\n",
       "    <tr>\n",
       "      <th>0</th>\n",
       "      <td>NA</td>\n",
       "      <td>1997</td>\n",
       "      <td>Altair</td>\n",
       "      <td>5</td>\n",
       "      <td>NaN</td>\n",
       "      <td>NaN</td>\n",
       "      <td>NaN</td>\n",
       "      <td>Tecnologia de Alimentos</td>\n",
       "      <td>1</td>\n",
       "    </tr>\n",
       "    <tr>\n",
       "      <th>1</th>\n",
       "      <td>NA</td>\n",
       "      <td>1997</td>\n",
       "      <td>Americana</td>\n",
       "      <td>5</td>\n",
       "      <td>NaN</td>\n",
       "      <td>NaN</td>\n",
       "      <td>NaN</td>\n",
       "      <td>Tecnologia de Alimentos</td>\n",
       "      <td>1</td>\n",
       "    </tr>\n",
       "    <tr>\n",
       "      <th>2</th>\n",
       "      <td>NA</td>\n",
       "      <td>1997</td>\n",
       "      <td>Amélia Rodrigues</td>\n",
       "      <td>5</td>\n",
       "      <td>NaN</td>\n",
       "      <td>NaN</td>\n",
       "      <td>NaN</td>\n",
       "      <td>Tecnologia de Alimentos</td>\n",
       "      <td>1</td>\n",
       "    </tr>\n",
       "    <tr>\n",
       "      <th>3</th>\n",
       "      <td>NA</td>\n",
       "      <td>1997</td>\n",
       "      <td>Araraquara</td>\n",
       "      <td>5</td>\n",
       "      <td>NaN</td>\n",
       "      <td>NaN</td>\n",
       "      <td>NaN</td>\n",
       "      <td>Tecnologia de Alimentos</td>\n",
       "      <td>1</td>\n",
       "    </tr>\n",
       "    <tr>\n",
       "      <th>4</th>\n",
       "      <td>NA</td>\n",
       "      <td>1997</td>\n",
       "      <td>Araras</td>\n",
       "      <td>5</td>\n",
       "      <td>NaN</td>\n",
       "      <td>NaN</td>\n",
       "      <td>NaN</td>\n",
       "      <td>Tecnologia de Alimentos</td>\n",
       "      <td>1</td>\n",
       "    </tr>\n",
       "  </tbody>\n",
       "</table>\n",
       "</div>"
      ],
      "text/plain": [
       "   UF   ano            cidade  curso  dist  lat  lon               nome_curso  \\\n",
       "0  NA  1997            Altair      5   NaN  NaN  NaN  Tecnologia de Alimentos   \n",
       "1  NA  1997         Americana      5   NaN  NaN  NaN  Tecnologia de Alimentos   \n",
       "2  NA  1997  Amélia Rodrigues      5   NaN  NaN  NaN  Tecnologia de Alimentos   \n",
       "3  NA  1997        Araraquara      5   NaN  NaN  NaN  Tecnologia de Alimentos   \n",
       "4  NA  1997            Araras      5   NaN  NaN  NaN  Tecnologia de Alimentos   \n",
       "\n",
       "  numero  \n",
       "0      1  \n",
       "1      1  \n",
       "2      1  \n",
       "3      1  \n",
       "4      1  "
      ]
     },
     "execution_count": 28,
     "metadata": {},
     "output_type": "execute_result"
    }
   ],
   "source": [
    "data = pd.DataFrame({'cidade': alunos.CIDADE,\n",
    "                 'numero': alunos.TOTAL,\n",
    "                 'curso': alunos.COD_CURSO,\n",
    "                 'nome_curso': alunos.NOME_CURSO,\n",
    "                 'ano': alunos.ANO,\n",
    "                 'UF': 'NA',\n",
    "                 'lat': np.nan,\n",
    "                 'lon': np.nan,\n",
    "                 'dist': np.nan})\n",
    "data.head()"
   ]
  },
  {
   "cell_type": "code",
   "execution_count": 29,
   "metadata": {
    "collapsed": true
   },
   "outputs": [],
   "source": [
    "for i, e in enumerate(df.cidade):\n",
    "    c = data[data[\"cidade\"] == e]\n",
    "    for j, f in zip(c.index, c.cidade):\n",
    "        data.at[j, \"UF\"] = df.at[i, \"UF\"]\n",
    "        data.at[j, \"dist\"] = df.at[i, \"dist\"]\n",
    "        data.at[j, \"lat\"] = df.at[i, \"lat\"]\n",
    "        data.at[j, \"lon\"] = df.at[i, \"lon\"]"
   ]
  },
  {
   "cell_type": "code",
   "execution_count": 30,
   "metadata": {},
   "outputs": [
    {
     "data": {
      "text/html": [
       "<div>\n",
       "<style>\n",
       "    .dataframe thead tr:only-child th {\n",
       "        text-align: right;\n",
       "    }\n",
       "\n",
       "    .dataframe thead th {\n",
       "        text-align: left;\n",
       "    }\n",
       "\n",
       "    .dataframe tbody tr th {\n",
       "        vertical-align: top;\n",
       "    }\n",
       "</style>\n",
       "<table border=\"1\" class=\"dataframe\">\n",
       "  <thead>\n",
       "    <tr style=\"text-align: right;\">\n",
       "      <th></th>\n",
       "      <th>UF</th>\n",
       "      <th>ano</th>\n",
       "      <th>cidade</th>\n",
       "      <th>curso</th>\n",
       "      <th>dist</th>\n",
       "      <th>lat</th>\n",
       "      <th>lon</th>\n",
       "      <th>nome_curso</th>\n",
       "      <th>numero</th>\n",
       "    </tr>\n",
       "  </thead>\n",
       "  <tbody>\n",
       "    <tr>\n",
       "      <th>0</th>\n",
       "      <td>SP</td>\n",
       "      <td>1997</td>\n",
       "      <td>Altair</td>\n",
       "      <td>5</td>\n",
       "      <td>336.079361</td>\n",
       "      <td>-0.358199</td>\n",
       "      <td>-0.856260</td>\n",
       "      <td>Tecnologia de Alimentos</td>\n",
       "      <td>1</td>\n",
       "    </tr>\n",
       "    <tr>\n",
       "      <th>1</th>\n",
       "      <td>SP</td>\n",
       "      <td>1997</td>\n",
       "      <td>Americana</td>\n",
       "      <td>5</td>\n",
       "      <td>33.309173</td>\n",
       "      <td>-0.396903</td>\n",
       "      <td>-0.826071</td>\n",
       "      <td>Tecnologia de Alimentos</td>\n",
       "      <td>1</td>\n",
       "    </tr>\n",
       "    <tr>\n",
       "      <th>2</th>\n",
       "      <td>BA</td>\n",
       "      <td>1997</td>\n",
       "      <td>Amélia Rodrigues</td>\n",
       "      <td>5</td>\n",
       "      <td>1461.630112</td>\n",
       "      <td>-0.216424</td>\n",
       "      <td>-0.676412</td>\n",
       "      <td>Tecnologia de Alimentos</td>\n",
       "      <td>1</td>\n",
       "    </tr>\n",
       "    <tr>\n",
       "      <th>3</th>\n",
       "      <td>SP</td>\n",
       "      <td>1997</td>\n",
       "      <td>Araraquara</td>\n",
       "      <td>5</td>\n",
       "      <td>168.990731</td>\n",
       "      <td>-0.380314</td>\n",
       "      <td>-0.840803</td>\n",
       "      <td>Tecnologia de Alimentos</td>\n",
       "      <td>1</td>\n",
       "    </tr>\n",
       "    <tr>\n",
       "      <th>4</th>\n",
       "      <td>SP</td>\n",
       "      <td>1997</td>\n",
       "      <td>Araras</td>\n",
       "      <td>5</td>\n",
       "      <td>69.719980</td>\n",
       "      <td>-0.390205</td>\n",
       "      <td>-0.827039</td>\n",
       "      <td>Tecnologia de Alimentos</td>\n",
       "      <td>1</td>\n",
       "    </tr>\n",
       "  </tbody>\n",
       "</table>\n",
       "</div>"
      ],
      "text/plain": [
       "   UF   ano            cidade  curso         dist       lat       lon  \\\n",
       "0  SP  1997            Altair      5   336.079361 -0.358199 -0.856260   \n",
       "1  SP  1997         Americana      5    33.309173 -0.396903 -0.826071   \n",
       "2  BA  1997  Amélia Rodrigues      5  1461.630112 -0.216424 -0.676412   \n",
       "3  SP  1997        Araraquara      5   168.990731 -0.380314 -0.840803   \n",
       "4  SP  1997            Araras      5    69.719980 -0.390205 -0.827039   \n",
       "\n",
       "                nome_curso numero  \n",
       "0  Tecnologia de Alimentos      1  \n",
       "1  Tecnologia de Alimentos      1  \n",
       "2  Tecnologia de Alimentos      1  \n",
       "3  Tecnologia de Alimentos      1  \n",
       "4  Tecnologia de Alimentos      1  "
      ]
     },
     "execution_count": 30,
     "metadata": {},
     "output_type": "execute_result"
    }
   ],
   "source": [
    "data.head()"
   ]
  },
  {
   "cell_type": "code",
   "execution_count": 31,
   "metadata": {
    "collapsed": true
   },
   "outputs": [],
   "source": [
    "data['dist'].replace('', np.nan, inplace=True)\n",
    "data.dropna(inplace=True)"
   ]
  },
  {
   "cell_type": "code",
   "execution_count": 33,
   "metadata": {
    "collapsed": true
   },
   "outputs": [],
   "source": [
    "data.to_csv('dou.csv')"
   ]
  },
  {
   "cell_type": "markdown",
   "metadata": {},
   "source": [
    "## Histograma distância"
   ]
  },
  {
   "cell_type": "code",
   "execution_count": 34,
   "metadata": {
    "collapsed": true
   },
   "outputs": [],
   "source": [
    "col = 12\n",
    "threshold = 130"
   ]
  },
  {
   "cell_type": "code",
   "execution_count": 35,
   "metadata": {
    "collapsed": true
   },
   "outputs": [],
   "source": [
    "data_plt = sum([[float(data.at[i, \"dist\"])]*int(data.at[i, \"numero\"]) for i in data.index], [])"
   ]
  },
  {
   "cell_type": "code",
   "execution_count": 36,
   "metadata": {},
   "outputs": [
    {
     "data": {
      "image/png": "[encoded data removed]",
      "text/plain": [
       "<matplotlib.figure.Figure at 0x7f6e677dd240>"
      ]
     },
     "metadata": {},
     "output_type": "display_data"
    }
   ],
   "source": [
    "plt.hist(np.asarray(data_plt), 2*col, color='red')\n",
    "plt.show()"
   ]
  },
  {
   "cell_type": "code",
   "execution_count": 37,
   "metadata": {},
   "outputs": [
    {
     "data": {
      "image/png": "[encoded data removed]",
      "text/plain": [
       "<matplotlib.figure.Figure at 0x7f6e67cc49e8>"
      ]
     },
     "metadata": {},
     "output_type": "display_data"
    }
   ],
   "source": [
    "plt.hist(np.asarray([e for e in data_plt if e > threshold]), 2*col, color='red')\n",
    "plt.show()"
   ]
  },
  {
   "cell_type": "code",
   "execution_count": 38,
   "metadata": {},
   "outputs": [
    {
     "data": {
      "image/png": "[encoded data removed]",
      "text/plain": [
       "<matplotlib.figure.Figure at 0x7f6e67ab0048>"
      ]
     },
     "metadata": {},
     "output_type": "display_data"
    }
   ],
   "source": [
    "plt.hist(np.asarray([e for e in data_plt if e > threshold+50]), 2*col, color='red')\n",
    "plt.show()"
   ]
  },
  {
   "cell_type": "code",
   "execution_count": 39,
   "metadata": {},
   "outputs": [
    {
     "data": {
      "text/plain": [
       "<matplotlib.legend.Legend at 0x7f6e6787f358>"
      ]
     },
     "execution_count": 39,
     "metadata": {},
     "output_type": "execute_result"
    },
    {
     "data": {
      "image/png": "[encoded data removed]",
      "text/plain": [
       "<matplotlib.figure.Figure at 0x7f6e67a13b70>"
      ]
     },
     "metadata": {},
     "output_type": "display_data"
    }
   ],
   "source": [
    "bar_width = 0.8\n",
    "\n",
    "\n",
    "for i in [1999, 2005, 2011, 2017]:\n",
    "    data_ano = data[data[\"ano\"] == i]\n",
    "    tot = sum(int(e) for e in data_ano.numero)\n",
    "    sp = sum([int(e) for e in data_ano[data_ano[\"cidade\"] == \"São Paulo\"].numero])\n",
    "    camp = sum([int(e) for e in data_ano[data_ano[\"cidade\"] == \"Campinas\"].numero])\n",
    "    SP = sum([int(e) for e in data_ano[data_ano[\"UF\"] == \"SP\"].numero],-camp -sp)\n",
    "    SPn = sum([int(e) for e in data_ano[data_ano[\"UF\"] != \"SP\"].numero])\n",
    "    plt.bar(i, camp/tot, bar_width, color = 'r')\n",
    "    plt.bar(i+1, sp/tot, bar_width, color = 'b')\n",
    "    plt.bar(i+2, SPn/tot, bar_width, color='g')\n",
    "    plt.bar(i+3, SP/tot, bar_width, color='y')\n",
    "    plt.xticks([1999+1.6, 2005+1.6, 2011+1.6, 2017+1.6], ['1999', '2005', '2011', '2017'])\n",
    "\n",
    "#    plt.xticks(str(i)+' sp + camp')\n",
    "    \n",
    "\n",
    "        \n",
    "\n",
    "plt.legend(['Campinas', 'São Paulo', 'Outras UF', 'SP'],loc='best')"
   ]
  },
  {
   "cell_type": "code",
   "execution_count": null,
   "metadata": {
    "collapsed": true
   },
   "outputs": [],
   "source": []
  },
  {
   "cell_type": "code",
   "execution_count": null,
   "metadata": {
    "collapsed": true
   },
   "outputs": [],
   "source": []
  }
 ],
 "metadata": {
  "kernelspec": {
   "display_name": "Python 3",
   "language": "python",
   "name": "python3"
  },
  "language_info": {
   "codemirror_mode": {
    "name": "ipython",
    "version": 3
   },
   "file_extension": ".py",
   "mimetype": "text/x-python",
   "name": "python",
   "nbconvert_exporter": "python",
   "pygments_lexer": "ipython3",
   "version": "3.6.2"
  }
 },
 "nbformat": 4,
 "nbformat_minor": 2
}
