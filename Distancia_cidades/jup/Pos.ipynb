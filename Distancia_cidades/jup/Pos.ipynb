{
 "cells": [
  {
   "cell_type": "code",
   "execution_count": 10,
   "metadata": {
    "collapsed": true
   },
   "outputs": [],
   "source": [
    "%matplotlib inline\n",
    "import numpy as np\n",
    "import pandas as pd\n",
    "import matplotlib.pyplot as plt"
   ]
  },
  {
   "cell_type": "code",
   "execution_count": 11,
   "metadata": {
    "collapsed": true
   },
   "outputs": [],
   "source": [
    "df = pd.read_csv('cidades_correto.csv')"
   ]
  },
  {
   "cell_type": "markdown",
   "metadata": {},
   "source": [
    "## Mestrado"
   ]
  },
  {
   "cell_type": "code",
   "execution_count": 41,
   "metadata": {},
   "outputs": [
    {
     "data": {
      "text/html": [
       "<div>\n",
       "<style>\n",
       "    .dataframe thead tr:only-child th {\n",
       "        text-align: right;\n",
       "    }\n",
       "\n",
       "    .dataframe thead th {\n",
       "        text-align: left;\n",
       "    }\n",
       "\n",
       "    .dataframe tbody tr th {\n",
       "        vertical-align: top;\n",
       "    }\n",
       "</style>\n",
       "<table border=\"1\" class=\"dataframe\">\n",
       "  <thead>\n",
       "    <tr style=\"text-align: right;\">\n",
       "      <th></th>\n",
       "      <th>ANO</th>\n",
       "      <th>NIVEL</th>\n",
       "      <th>COD_CURSO</th>\n",
       "      <th>NOME_CURSO</th>\n",
       "      <th>CIDADE</th>\n",
       "      <th>PAIS</th>\n",
       "      <th>NOME_PAIS</th>\n",
       "      <th>TOTAL</th>\n",
       "      <th>Unnamed: 8</th>\n",
       "    </tr>\n",
       "  </thead>\n",
       "  <tbody>\n",
       "    <tr>\n",
       "      <th>0</th>\n",
       "      <td>1997</td>\n",
       "      <td>M</td>\n",
       "      <td>1</td>\n",
       "      <td>Matemática</td>\n",
       "      <td>Araguari</td>\n",
       "      <td>BR</td>\n",
       "      <td>Brasil</td>\n",
       "      <td>1</td>\n",
       "      <td>NaN</td>\n",
       "    </tr>\n",
       "    <tr>\n",
       "      <th>1</th>\n",
       "      <td>1997</td>\n",
       "      <td>M</td>\n",
       "      <td>1</td>\n",
       "      <td>Matemática</td>\n",
       "      <td>Barretos</td>\n",
       "      <td>BR</td>\n",
       "      <td>Brasil</td>\n",
       "      <td>1</td>\n",
       "      <td>NaN</td>\n",
       "    </tr>\n",
       "    <tr>\n",
       "      <th>2</th>\n",
       "      <td>1997</td>\n",
       "      <td>M</td>\n",
       "      <td>1</td>\n",
       "      <td>Matemática</td>\n",
       "      <td>Belo Horizonte</td>\n",
       "      <td>BR</td>\n",
       "      <td>Brasil</td>\n",
       "      <td>1</td>\n",
       "      <td>NaN</td>\n",
       "    </tr>\n",
       "    <tr>\n",
       "      <th>3</th>\n",
       "      <td>1997</td>\n",
       "      <td>M</td>\n",
       "      <td>1</td>\n",
       "      <td>Matemática</td>\n",
       "      <td>Campinas</td>\n",
       "      <td>BR</td>\n",
       "      <td>Brasil</td>\n",
       "      <td>2</td>\n",
       "      <td>NaN</td>\n",
       "    </tr>\n",
       "    <tr>\n",
       "      <th>4</th>\n",
       "      <td>1997</td>\n",
       "      <td>M</td>\n",
       "      <td>1</td>\n",
       "      <td>Matemática</td>\n",
       "      <td>Fernandópolis</td>\n",
       "      <td>BR</td>\n",
       "      <td>Brasil</td>\n",
       "      <td>1</td>\n",
       "      <td>NaN</td>\n",
       "    </tr>\n",
       "  </tbody>\n",
       "</table>\n",
       "</div>"
      ],
      "text/plain": [
       "    ANO NIVEL  COD_CURSO  NOME_CURSO          CIDADE PAIS NOME_PAIS TOTAL  \\\n",
       "0  1997     M          1  Matemática        Araguari   BR    Brasil     1   \n",
       "1  1997     M          1  Matemática        Barretos   BR    Brasil     1   \n",
       "2  1997     M          1  Matemática  Belo Horizonte   BR    Brasil     1   \n",
       "3  1997     M          1  Matemática        Campinas   BR    Brasil     2   \n",
       "4  1997     M          1  Matemática   Fernandópolis   BR    Brasil     1   \n",
       "\n",
       "   Unnamed: 8  \n",
       "0         NaN  \n",
       "1         NaN  \n",
       "2         NaN  \n",
       "3         NaN  \n",
       "4         NaN  "
      ]
     },
     "execution_count": 41,
     "metadata": {},
     "output_type": "execute_result"
    }
   ],
   "source": [
    "alunos_mes = pd.read_csv('A_Mes.csv', delimiter=';')\n",
    "alunos_mes.head()"
   ]
  },
  {
   "cell_type": "code",
   "execution_count": 42,
   "metadata": {},
   "outputs": [
    {
     "data": {
      "text/html": [
       "<div>\n",
       "<style>\n",
       "    .dataframe thead tr:only-child th {\n",
       "        text-align: right;\n",
       "    }\n",
       "\n",
       "    .dataframe thead th {\n",
       "        text-align: left;\n",
       "    }\n",
       "\n",
       "    .dataframe tbody tr th {\n",
       "        vertical-align: top;\n",
       "    }\n",
       "</style>\n",
       "<table border=\"1\" class=\"dataframe\">\n",
       "  <thead>\n",
       "    <tr style=\"text-align: right;\">\n",
       "      <th></th>\n",
       "      <th>ANO</th>\n",
       "      <th>NIVEL</th>\n",
       "      <th>COD_CURSO</th>\n",
       "      <th>NOME_CURSO</th>\n",
       "      <th>CIDADE</th>\n",
       "      <th>PAIS</th>\n",
       "      <th>NOME_PAIS</th>\n",
       "      <th>TOTAL</th>\n",
       "      <th>Unnamed: 8</th>\n",
       "    </tr>\n",
       "  </thead>\n",
       "  <tbody>\n",
       "    <tr>\n",
       "      <th>59001</th>\n",
       "      <td>2017</td>\n",
       "      <td>M</td>\n",
       "      <td>94</td>\n",
       "      <td>Ciências Farmacêuticas</td>\n",
       "      <td>Campinas</td>\n",
       "      <td>BR</td>\n",
       "      <td>Brasil</td>\n",
       "      <td>1</td>\n",
       "      <td>NaN</td>\n",
       "    </tr>\n",
       "    <tr>\n",
       "      <th>59002</th>\n",
       "      <td>2017</td>\n",
       "      <td>M</td>\n",
       "      <td>94</td>\n",
       "      <td>Ciências Farmacêuticas</td>\n",
       "      <td>Jundiaí</td>\n",
       "      <td>BR</td>\n",
       "      <td>Brasil</td>\n",
       "      <td>1</td>\n",
       "      <td>NaN</td>\n",
       "    </tr>\n",
       "    <tr>\n",
       "      <th>59003</th>\n",
       "      <td>2017</td>\n",
       "      <td>M</td>\n",
       "      <td>94</td>\n",
       "      <td>Ciências Farmacêuticas</td>\n",
       "      <td>Maracaju</td>\n",
       "      <td>BR</td>\n",
       "      <td>Brasil</td>\n",
       "      <td>1</td>\n",
       "      <td>NaN</td>\n",
       "    </tr>\n",
       "    <tr>\n",
       "      <th>59004</th>\n",
       "      <td>2017</td>\n",
       "      <td>M</td>\n",
       "      <td>94</td>\n",
       "      <td>Ciências Farmacêuticas</td>\n",
       "      <td>Santo André</td>\n",
       "      <td>BR</td>\n",
       "      <td>Brasil</td>\n",
       "      <td>1</td>\n",
       "      <td>NaN</td>\n",
       "    </tr>\n",
       "    <tr>\n",
       "      <th>59005</th>\n",
       "      <td>2017</td>\n",
       "      <td>M</td>\n",
       "      <td>94</td>\n",
       "      <td>Ciências Farmacêuticas</td>\n",
       "      <td>São Paulo</td>\n",
       "      <td>BR</td>\n",
       "      <td>Brasil</td>\n",
       "      <td>1</td>\n",
       "      <td>NaN</td>\n",
       "    </tr>\n",
       "  </tbody>\n",
       "</table>\n",
       "</div>"
      ],
      "text/plain": [
       "        ANO NIVEL  COD_CURSO              NOME_CURSO       CIDADE PAIS  \\\n",
       "59001  2017     M         94  Ciências Farmacêuticas     Campinas   BR   \n",
       "59002  2017     M         94  Ciências Farmacêuticas      Jundiaí   BR   \n",
       "59003  2017     M         94  Ciências Farmacêuticas     Maracaju   BR   \n",
       "59004  2017     M         94  Ciências Farmacêuticas  Santo André   BR   \n",
       "59005  2017     M         94  Ciências Farmacêuticas    São Paulo   BR   \n",
       "\n",
       "      NOME_PAIS TOTAL  Unnamed: 8  \n",
       "59001    Brasil     1         NaN  \n",
       "59002    Brasil     1         NaN  \n",
       "59003    Brasil     1         NaN  \n",
       "59004    Brasil     1         NaN  \n",
       "59005    Brasil     1         NaN  "
      ]
     },
     "execution_count": 42,
     "metadata": {},
     "output_type": "execute_result"
    }
   ],
   "source": [
    "alunos_mes = alunos_mes[alunos_mes.PAIS.isin([\"BR\"])]\n",
    "\n",
    "alunos_mes.tail()"
   ]
  },
  {
   "cell_type": "code",
   "execution_count": 43,
   "metadata": {},
   "outputs": [
    {
     "data": {
      "text/html": [
       "<div>\n",
       "<style>\n",
       "    .dataframe thead tr:only-child th {\n",
       "        text-align: right;\n",
       "    }\n",
       "\n",
       "    .dataframe thead th {\n",
       "        text-align: left;\n",
       "    }\n",
       "\n",
       "    .dataframe tbody tr th {\n",
       "        vertical-align: top;\n",
       "    }\n",
       "</style>\n",
       "<table border=\"1\" class=\"dataframe\">\n",
       "  <thead>\n",
       "    <tr style=\"text-align: right;\">\n",
       "      <th></th>\n",
       "      <th>UF</th>\n",
       "      <th>ano</th>\n",
       "      <th>cidade</th>\n",
       "      <th>curso</th>\n",
       "      <th>dist</th>\n",
       "      <th>lat</th>\n",
       "      <th>lon</th>\n",
       "      <th>nome_curso</th>\n",
       "      <th>numero</th>\n",
       "    </tr>\n",
       "  </thead>\n",
       "  <tbody>\n",
       "    <tr>\n",
       "      <th>0</th>\n",
       "      <td>NA</td>\n",
       "      <td>1997</td>\n",
       "      <td>Araguari</td>\n",
       "      <td>1</td>\n",
       "      <td>NaN</td>\n",
       "      <td>NaN</td>\n",
       "      <td>NaN</td>\n",
       "      <td>Matemática</td>\n",
       "      <td>1</td>\n",
       "    </tr>\n",
       "    <tr>\n",
       "      <th>1</th>\n",
       "      <td>NA</td>\n",
       "      <td>1997</td>\n",
       "      <td>Barretos</td>\n",
       "      <td>1</td>\n",
       "      <td>NaN</td>\n",
       "      <td>NaN</td>\n",
       "      <td>NaN</td>\n",
       "      <td>Matemática</td>\n",
       "      <td>1</td>\n",
       "    </tr>\n",
       "    <tr>\n",
       "      <th>2</th>\n",
       "      <td>NA</td>\n",
       "      <td>1997</td>\n",
       "      <td>Belo Horizonte</td>\n",
       "      <td>1</td>\n",
       "      <td>NaN</td>\n",
       "      <td>NaN</td>\n",
       "      <td>NaN</td>\n",
       "      <td>Matemática</td>\n",
       "      <td>1</td>\n",
       "    </tr>\n",
       "    <tr>\n",
       "      <th>3</th>\n",
       "      <td>NA</td>\n",
       "      <td>1997</td>\n",
       "      <td>Campinas</td>\n",
       "      <td>1</td>\n",
       "      <td>NaN</td>\n",
       "      <td>NaN</td>\n",
       "      <td>NaN</td>\n",
       "      <td>Matemática</td>\n",
       "      <td>2</td>\n",
       "    </tr>\n",
       "    <tr>\n",
       "      <th>4</th>\n",
       "      <td>NA</td>\n",
       "      <td>1997</td>\n",
       "      <td>Fernandópolis</td>\n",
       "      <td>1</td>\n",
       "      <td>NaN</td>\n",
       "      <td>NaN</td>\n",
       "      <td>NaN</td>\n",
       "      <td>Matemática</td>\n",
       "      <td>1</td>\n",
       "    </tr>\n",
       "  </tbody>\n",
       "</table>\n",
       "</div>"
      ],
      "text/plain": [
       "   UF   ano          cidade  curso  dist  lat  lon  nome_curso numero\n",
       "0  NA  1997        Araguari      1   NaN  NaN  NaN  Matemática      1\n",
       "1  NA  1997        Barretos      1   NaN  NaN  NaN  Matemática      1\n",
       "2  NA  1997  Belo Horizonte      1   NaN  NaN  NaN  Matemática      1\n",
       "3  NA  1997        Campinas      1   NaN  NaN  NaN  Matemática      2\n",
       "4  NA  1997   Fernandópolis      1   NaN  NaN  NaN  Matemática      1"
      ]
     },
     "execution_count": 43,
     "metadata": {},
     "output_type": "execute_result"
    }
   ],
   "source": [
    "data_mes = pd.DataFrame({'cidade': alunos_mes.CIDADE,\n",
    "                 'numero': alunos_mes.TOTAL,\n",
    "                 'curso': alunos_mes.COD_CURSO,\n",
    "                 'nome_curso': alunos_mes.NOME_CURSO,\n",
    "                 'ano': alunos_mes.ANO,\n",
    "                 'UF': 'NA',\n",
    "                 'lat': np.nan,\n",
    "                 'lon': np.nan,\n",
    "                 'dist': np.nan})\n",
    "data_mes.head()"
   ]
  },
  {
   "cell_type": "code",
   "execution_count": 44,
   "metadata": {
    "collapsed": true
   },
   "outputs": [],
   "source": [
    "for i, e in enumerate(df.cidade):\n",
    "    c = data_mes[data_mes[\"cidade\"] == e]\n",
    "    for j, f in zip(c.index, c.cidade):\n",
    "        data_mes.at[j, \"UF\"] = df.at[i, \"UF\"]\n",
    "        data_mes.at[j, \"dist\"] = df.at[i, \"dist\"]\n",
    "        data_mes.at[j, \"lat\"] = df.at[i, \"lat\"]\n",
    "        data_mes.at[j, \"lon\"] = df.at[i, \"lon\"]"
   ]
  },
  {
   "cell_type": "code",
   "execution_count": 45,
   "metadata": {},
   "outputs": [
    {
     "data": {
      "text/html": [
       "<div>\n",
       "<style>\n",
       "    .dataframe thead tr:only-child th {\n",
       "        text-align: right;\n",
       "    }\n",
       "\n",
       "    .dataframe thead th {\n",
       "        text-align: left;\n",
       "    }\n",
       "\n",
       "    .dataframe tbody tr th {\n",
       "        vertical-align: top;\n",
       "    }\n",
       "</style>\n",
       "<table border=\"1\" class=\"dataframe\">\n",
       "  <thead>\n",
       "    <tr style=\"text-align: right;\">\n",
       "      <th></th>\n",
       "      <th>UF</th>\n",
       "      <th>ano</th>\n",
       "      <th>cidade</th>\n",
       "      <th>curso</th>\n",
       "      <th>dist</th>\n",
       "      <th>lat</th>\n",
       "      <th>lon</th>\n",
       "      <th>nome_curso</th>\n",
       "      <th>numero</th>\n",
       "    </tr>\n",
       "  </thead>\n",
       "  <tbody>\n",
       "    <tr>\n",
       "      <th>0</th>\n",
       "      <td>MG</td>\n",
       "      <td>1997</td>\n",
       "      <td>Araguari</td>\n",
       "      <td>1</td>\n",
       "      <td>487.967563</td>\n",
       "      <td>-0.325474</td>\n",
       "      <td>-0.841102</td>\n",
       "      <td>Matemática</td>\n",
       "      <td>1</td>\n",
       "    </tr>\n",
       "    <tr>\n",
       "      <th>1</th>\n",
       "      <td>SP</td>\n",
       "      <td>1997</td>\n",
       "      <td>Barretos</td>\n",
       "      <td>1</td>\n",
       "      <td>304.054526</td>\n",
       "      <td>-0.358813</td>\n",
       "      <td>-0.847661</td>\n",
       "      <td>Matemática</td>\n",
       "      <td>1</td>\n",
       "    </tr>\n",
       "    <tr>\n",
       "      <th>2</th>\n",
       "      <td>MG</td>\n",
       "      <td>1997</td>\n",
       "      <td>Belo Horizonte</td>\n",
       "      <td>1</td>\n",
       "      <td>462.854596</td>\n",
       "      <td>-0.347975</td>\n",
       "      <td>-0.766661</td>\n",
       "      <td>Matemática</td>\n",
       "      <td>1</td>\n",
       "    </tr>\n",
       "    <tr>\n",
       "      <th>3</th>\n",
       "      <td>SP</td>\n",
       "      <td>1997</td>\n",
       "      <td>Campinas</td>\n",
       "      <td>1</td>\n",
       "      <td>0.000000</td>\n",
       "      <td>-0.399809</td>\n",
       "      <td>-0.821355</td>\n",
       "      <td>Matemática</td>\n",
       "      <td>2</td>\n",
       "    </tr>\n",
       "    <tr>\n",
       "      <th>4</th>\n",
       "      <td>SP</td>\n",
       "      <td>1997</td>\n",
       "      <td>Fernandópolis</td>\n",
       "      <td>1</td>\n",
       "      <td>440.278335</td>\n",
       "      <td>-0.353994</td>\n",
       "      <td>-0.877006</td>\n",
       "      <td>Matemática</td>\n",
       "      <td>1</td>\n",
       "    </tr>\n",
       "  </tbody>\n",
       "</table>\n",
       "</div>"
      ],
      "text/plain": [
       "   UF   ano          cidade  curso        dist       lat       lon  \\\n",
       "0  MG  1997        Araguari      1  487.967563 -0.325474 -0.841102   \n",
       "1  SP  1997        Barretos      1  304.054526 -0.358813 -0.847661   \n",
       "2  MG  1997  Belo Horizonte      1  462.854596 -0.347975 -0.766661   \n",
       "3  SP  1997        Campinas      1    0.000000 -0.399809 -0.821355   \n",
       "4  SP  1997   Fernandópolis      1  440.278335 -0.353994 -0.877006   \n",
       "\n",
       "   nome_curso numero  \n",
       "0  Matemática      1  \n",
       "1  Matemática      1  \n",
       "2  Matemática      1  \n",
       "3  Matemática      2  \n",
       "4  Matemática      1  "
      ]
     },
     "execution_count": 45,
     "metadata": {},
     "output_type": "execute_result"
    }
   ],
   "source": [
    "data_mes.head()"
   ]
  },
  {
   "cell_type": "code",
   "execution_count": 46,
   "metadata": {
    "collapsed": true
   },
   "outputs": [],
   "source": [
    "data_mes['dist'].replace('', np.nan, inplace=True)\n",
    "data_mes.dropna(inplace=True)"
   ]
  },
  {
   "cell_type": "code",
   "execution_count": 47,
   "metadata": {
    "collapsed": true
   },
   "outputs": [],
   "source": [
    "data_mes.to_csv('mes.csv')"
   ]
  },
  {
   "cell_type": "markdown",
   "metadata": {},
   "source": [
    "## Histograma distância"
   ]
  },
  {
   "cell_type": "code",
   "execution_count": 48,
   "metadata": {
    "collapsed": true
   },
   "outputs": [],
   "source": [
    "col = 12\n",
    "threshold = 130"
   ]
  },
  {
   "cell_type": "code",
   "execution_count": 49,
   "metadata": {
    "collapsed": true
   },
   "outputs": [],
   "source": [
    "data_mes_plt = sum([[float(data_mes.at[i, \"dist\"])]*int(data_mes.at[i, \"numero\"]) for i in data_mes.index], [])"
   ]
  },
  {
   "cell_type": "code",
   "execution_count": 50,
   "metadata": {},
   "outputs": [
    {
     "data": {
      "image/png": "[encoded data removed]",
      "text/plain": [
       "<matplotlib.figure.Figure at 0x7f6e67999668>"
      ]
     },
     "metadata": {},
     "output_type": "display_data"
    }
   ],
   "source": [
    "plt.hist(np.asarray(data_mes_plt), 2*col, color='red')\n",
    "plt.show()"
   ]
  },
  {
   "cell_type": "code",
   "execution_count": 51,
   "metadata": {},
   "outputs": [
    {
     "data": {
      "image/png": "[encoded data removed]",
      "text/plain": [
       "<matplotlib.figure.Figure at 0x7f6e67e046d8>"
      ]
     },
     "metadata": {},
     "output_type": "display_data"
    }
   ],
   "source": [
    "plt.hist(np.asarray([e for e in data_mes_plt if e > threshold]), 2*col, color='red')\n",
    "plt.show()"
   ]
  },
  {
   "cell_type": "code",
   "execution_count": 52,
   "metadata": {},
   "outputs": [
    {
     "data": {
      "image/png": "[encoded data removed]",
      "text/plain": [
       "<matplotlib.figure.Figure at 0x7f6e6744ef28>"
      ]
     },
     "metadata": {},
     "output_type": "display_data"
    }
   ],
   "source": [
    "plt.hist(np.asarray([e for e in data_mes_plt if e > threshold+50]), 2*col, color='red')\n",
    "plt.show()"
   ]
  },
  {
   "cell_type": "code",
   "execution_count": 53,
   "metadata": {},
   "outputs": [
    {
     "data": {
      "text/plain": [
       "<matplotlib.legend.Legend at 0x7f6e676600f0>"
      ]
     },
     "execution_count": 53,
     "metadata": {},
     "output_type": "execute_result"
    },
    {
     "data": {
      "image/png": "[encoded data removed]",
      "text/plain": [
       "<matplotlib.figure.Figure at 0x7f6e67660dd8>"
      ]
     },
     "metadata": {},
     "output_type": "display_data"
    }
   ],
   "source": [
    "bar_width = 0.8\n",
    "\n",
    "\n",
    "for i in [1999, 2005, 2011, 2017]:\n",
    "    data_mes_ano = data_mes[data_mes[\"ano\"] == i]\n",
    "    tot = sum(int(e) for e in data_mes_ano.numero)\n",
    "    sp = sum([int(e) for e in data_mes_ano[data_mes_ano[\"cidade\"] == \"São Paulo\"].numero])\n",
    "    camp = sum([int(e) for e in data_mes_ano[data_mes_ano[\"cidade\"] == \"Campinas\"].numero])\n",
    "    SP = sum([int(e) for e in data_mes_ano[data_mes_ano[\"UF\"] == \"SP\"].numero],-camp -sp)\n",
    "    SPn = sum([int(e) for e in data_mes_ano[data_mes_ano[\"UF\"] != \"SP\"].numero])\n",
    "    plt.bar(i, camp/tot, bar_width, color = 'r')\n",
    "    plt.bar(i+1, sp/tot, bar_width, color = 'b')\n",
    "    plt.bar(i+2, SPn/tot, bar_width, color='g')\n",
    "    plt.bar(i+3, SP/tot, bar_width, color='y')\n",
    "    plt.xticks([1999+1.6, 2005+1.6, 2011+1.6, 2017+1.6], ['1999', '2005', '2011', '2017'])\n",
    "\n",
    "#    plt.xticks(str(i)+' sp + camp')\n",
    "    \n",
    "\n",
    "        \n",
    "\n",
    "plt.legend(['Campinas', 'São Paulo', 'Outras UF', 'SP'],loc='best')"
   ]
  },
  {
   "cell_type": "code",
   "execution_count": null,
   "metadata": {
    "collapsed": true
   },
   "outputs": [],
   "source": []
  }
 ],
 "metadata": {
  "kernelspec": {
   "display_name": "Python 3",
   "language": "python",
   "name": "python3"
  },
  "language_info": {
   "codemirror_mode": {
    "name": "ipython",
    "version": 3
   },
   "file_extension": ".py",
   "mimetype": "text/x-python",
   "name": "python",
   "nbconvert_exporter": "python",
   "pygments_lexer": "ipython3",
   "version": "3.6.2"
  }
 },
 "nbformat": 4,
 "nbformat_minor": 2
}
